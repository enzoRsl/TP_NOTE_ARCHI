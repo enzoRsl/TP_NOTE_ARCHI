{
  "nbformat": 4,
  "nbformat_minor": 0,
  "metadata": {
    "colab": {
      "provenance": [],
      "include_colab_link": true
    },
    "kernelspec": {
      "name": "python3",
      "display_name": "Python 3"
    },
    "language_info": {
      "name": "python"
    }
  },
  "cells": [
    {
      "cell_type": "markdown",
      "metadata": {
        "id": "view-in-github",
        "colab_type": "text"
      },
      "source": [
        "<a href=\"https://colab.research.google.com/github/enzoRsl/TP_NOTE_ARCHI/blob/master/quizzes/Wrap_up_Quiz_Linear_Models_to_Students.ipynb\" target=\"_parent\"><img src=\"https://colab.research.google.com/assets/colab-badge.svg\" alt=\"Open In Colab\"/></a>"
      ]
    },
    {
      "cell_type": "markdown",
      "source": [
        "# Wrap-up Quiz - Linear Models\n",
        "**This quiz requires some programming to be answered.**\n",
        "\n",
        "Open the dataset `ames_housing_no_missing.csv` with the following command:"
      ],
      "metadata": {
        "id": "ciQzFZ2qNsfc"
      }
    },
    {
      "cell_type": "code",
      "source": [
        "import pandas as pd\n",
        "\n",
        "ames_housing = pd.read_csv(\"https://raw.githubusercontent.com/bilals/scikit-learn-mooc/main/datasets/ames_housing_no_missing.csv\")\n",
        "target_name = \"SalePrice\"\n",
        "data = ames_housing.drop(columns=target_name)\n",
        "target = ames_housing[target_name]"
      ],
      "metadata": {
        "id": "wP3pyiRdKObY"
      },
      "execution_count": null,
      "outputs": []
    },
    {
      "cell_type": "markdown",
      "source": [
        "`ames_housing` is a pandas dataframe. The column “SalePrice” contains the target variable.\n",
        "\n",
        "To simplify this exercise, we will only used the numerical features defined below:"
      ],
      "metadata": {
        "id": "Exp20UWMOUV1"
      }
    },
    {
      "cell_type": "code",
      "source": [
        "numerical_features = [\n",
        "    \"LotFrontage\", \"LotArea\", \"MasVnrArea\", \"BsmtFinSF1\", \"BsmtFinSF2\",\n",
        "    \"BsmtUnfSF\", \"TotalBsmtSF\", \"1stFlrSF\", \"2ndFlrSF\", \"LowQualFinSF\",\n",
        "    \"GrLivArea\", \"BedroomAbvGr\", \"KitchenAbvGr\", \"TotRmsAbvGrd\", \"Fireplaces\",\n",
        "    \"GarageCars\", \"GarageArea\", \"WoodDeckSF\", \"OpenPorchSF\", \"EnclosedPorch\",\n",
        "    \"3SsnPorch\", \"ScreenPorch\", \"PoolArea\", \"MiscVal\",\n",
        "]\n",
        "\n",
        "data_numerical = data[numerical_features]"
      ],
      "metadata": {
        "id": "FJKDvwhgzdpw"
      },
      "execution_count": null,
      "outputs": []
    },
    {
      "cell_type": "markdown",
      "source": [
        "Start by fitting a ridge regressor (`sklearn.linear_model.Ridge`) fixing the penalty `alpha` to 0 to not regularize the model. Use a 10-fold cross-validation and pass the argument `return_estimator=True` in sklearn.`model_selection.cross_validate` to access all fitted estimators fitted on each fold. As discussed in the previous notebooks, use an instance of sklearn.`preprocessing.StandardScaler` to scale the data before passing it to the regressor."
      ],
      "metadata": {
        "id": "O21TG43KOeq-"
      }
    },
    {
      "cell_type": "code",
      "source": [
        "from sklearn.linear_model import Ridge\n",
        "from sklearn.model_selection import cross_validate\n",
        "from sklearn.preprocessing import StandardScaler\n",
        "from sklearn.pipeline import make_pipeline\n",
        "\n",
        "# Pipeline avec normalisation et régression Ridge\n",
        "ridge_pipeline = make_pipeline(StandardScaler(), Ridge(alpha=0, solver=\"cholesky\"))\n",
        "\n",
        "# Validation croisée en 10 plis\n",
        "cv_results = cross_validate(\n",
        "    ridge_pipeline,\n",
        "    data_numerical,\n",
        "    target,\n",
        "    cv=10,\n",
        "    return_estimator=True,\n",
        "    scoring=\"r2\"\n",
        ")\n",
        "\n",
        "# Les résultats sont stockés dans cv_results\n",
        "print(cv_results['estimator'][0][-1].coef_)"
      ],
      "metadata": {
        "id": "9ef44wLilHl-",
        "outputId": "7d871587-919c-40ac-a450-c53affcb2753",
        "colab": {
          "base_uri": "https://localhost:8080/"
        }
      },
      "execution_count": null,
      "outputs": [
        {
          "output_type": "stream",
          "name": "stderr",
          "text": [
            "/usr/local/lib/python3.10/dist-packages/sklearn/linear_model/_ridge.py:216: LinAlgWarning: Ill-conditioned matrix (rcond=3.14082e-17): result may not be accurate.\n",
            "  return linalg.solve(A, Xy, assume_a=\"pos\", overwrite_a=True).T\n",
            "/usr/local/lib/python3.10/dist-packages/sklearn/linear_model/_ridge.py:216: LinAlgWarning: Ill-conditioned matrix (rcond=1.48388e-17): result may not be accurate.\n",
            "  return linalg.solve(A, Xy, assume_a=\"pos\", overwrite_a=True).T\n",
            "/usr/local/lib/python3.10/dist-packages/sklearn/linear_model/_ridge.py:216: LinAlgWarning: Ill-conditioned matrix (rcond=5.80818e-18): result may not be accurate.\n",
            "  return linalg.solve(A, Xy, assume_a=\"pos\", overwrite_a=True).T\n",
            "/usr/local/lib/python3.10/dist-packages/sklearn/linear_model/_ridge.py:216: LinAlgWarning: Ill-conditioned matrix (rcond=3.08256e-17): result may not be accurate.\n",
            "  return linalg.solve(A, Xy, assume_a=\"pos\", overwrite_a=True).T\n",
            "/usr/local/lib/python3.10/dist-packages/sklearn/linear_model/_ridge.py:216: LinAlgWarning: Ill-conditioned matrix (rcond=5.35911e-18): result may not be accurate.\n",
            "  return linalg.solve(A, Xy, assume_a=\"pos\", overwrite_a=True).T\n",
            "/usr/local/lib/python3.10/dist-packages/sklearn/linear_model/_ridge.py:216: LinAlgWarning: Ill-conditioned matrix (rcond=1.5769e-17): result may not be accurate.\n",
            "  return linalg.solve(A, Xy, assume_a=\"pos\", overwrite_a=True).T\n"
          ]
        },
        {
          "output_type": "stream",
          "name": "stdout",
          "text": [
            "[  -477.20283213   1395.54010036   7655.69144721   5426.98014014\n",
            "  -1479.12469532   -347.46866266  15220.11015793  -7980.85796186\n",
            "  -8273.43202967  -3782.4143748   41751.55185235 -11451.69529459\n",
            " -10996.39008328  11995.61282277   3328.21690309  20941.94291538\n",
            "  -1944.13557804   4545.08057475   2191.01766245  -2101.28960593\n",
            "   1697.50330063   1686.15248106  -2026.50927075    380.54109128]\n"
          ]
        },
        {
          "output_type": "stream",
          "name": "stderr",
          "text": [
            "/usr/local/lib/python3.10/dist-packages/sklearn/linear_model/_ridge.py:216: LinAlgWarning: Ill-conditioned matrix (rcond=2.35724e-17): result may not be accurate.\n",
            "  return linalg.solve(A, Xy, assume_a=\"pos\", overwrite_a=True).T\n"
          ]
        }
      ]
    },
    {
      "cell_type": "markdown",
      "source": [
        "## Question 1\n",
        "How large is the largest absolute value of the weight (coefficient) in this trained model?\n",
        "\n",
        "a) Lower than 1.0 (1e0)\n",
        "\n",
        "b) Between 1.0 (1e0) and 100,000.0 (1e5)\n",
        "\n",
        "c) Larger than 100,000.0 (1e5)\n",
        "\n",
        "*Select a single answer*\n",
        "\n",
        "Hint: Note that the estimator fitted in each fold of the cross-validation procedure is a pipeline object. To access the coefficients of the `Ridge` model at the last position in a pipeline object, you can use the expression `pipeline[-1].coef_` for each pipeline object fitted in the cross-validation procedure. The `-1` notation is a negative index meaning “last position”."
      ],
      "metadata": {
        "id": "CC-bI9XJOtcg"
      }
    },
    {
      "cell_type": "markdown",
      "source": [
        "Réponse B"
      ],
      "metadata": {
        "id": "ixHP873KnDL_"
      }
    },
    {
      "cell_type": "markdown",
      "source": [
        "## Question 2\n",
        "\n",
        "Repeat the same experiment by fitting a ridge regressor (`sklearn.linear_model.Ridge`) with the default parameter (i.e. `alpha=1.0`).\n",
        "\n",
        "How large is the largest absolute value of the weight (coefficient) in this trained model?\n",
        "\n",
        "a) Lower than 1.0\n",
        "\n",
        "b) Between 1.0 and 100,000.0\n",
        "\n",
        "c) Larger than 100,000.0\n",
        "\n",
        "*Select a single answer*"
      ],
      "metadata": {
        "id": "UKes25qtPeZs"
      }
    },
    {
      "cell_type": "markdown",
      "source": [
        "## Question 3\n",
        "\n",
        "What are the two most important features used by the ridge regressor? You can make a box-plot of the coefficients across all folds to get a good insight.\n",
        "\n",
        "a) \"`MiscVal`\" and \"`BsmtFinSF1`\"\n",
        "\n",
        "b) \"`GarageCars`\" and \"`GrLivArea`\"\n",
        "\n",
        "c) \"`TotalBsmtSF`\" and \"`GarageCars`\"\n",
        "\n",
        "*Select a single answer*"
      ],
      "metadata": {
        "id": "NBku9MO0R_Fh"
      }
    },
    {
      "cell_type": "markdown",
      "source": [
        "## Question 4\n",
        "\n",
        "Remove the feature \"`GarageArea`\" from the dataset and repeat the previous experiment.\n",
        "\n",
        "\n",
        "What is the impact on the weights of removing \"`GarageArea`\" from the dataset?\n",
        "\n",
        "a) None\n",
        "\n",
        "b) Completely changes the order of the most important features\n",
        "\n",
        "c) Decreases the standard deviation (across CV folds) of the \"`GarageCars`\" coefficient\n",
        "\n",
        "*Select all answers that apply*"
      ],
      "metadata": {
        "id": "KgZFOAmzSdpT"
      }
    },
    {
      "cell_type": "markdown",
      "source": [
        "## Question 5\n",
        "\n",
        "What is the main reason for observing the previous impact on the most important weight(s)?\n",
        "\n",
        "a) Both garage features are correlated and are carrying similar information\n",
        "\n",
        "b) Removing the `“GarageArea”` feature reduces the noise in the dataset\n",
        "\n",
        "c) Just some random effects\n",
        "\n",
        "*Select a single answer*\n",
        "\n"
      ],
      "metadata": {
        "id": "TWVpBxcdUnu-"
      }
    },
    {
      "cell_type": "markdown",
      "source": [
        "## Question 6\n",
        "\n",
        "Now, we will search for the regularization strength that maximizes the generalization performance of our predictive model. Fit a `sklearn.linear_model.RidgeCV` instead of a `Ridge` regressor on the numerical data without the \"`GarageArea`\" column. Pass `alphas=np.logspace(-3, 3, num=101)` to explore the effect of changing the regularization strength.\n",
        "\n",
        "What is the effect of tuning alpha on the variability of the weights of the feature \"GarageCars\"? Remember that the variability can be assessed by computing the standard deviation.\n",
        "\n",
        "a) The variability does not change after tuning alpha\n",
        "\n",
        "b) The variability decreased after tuning alpha\n",
        "\n",
        "c) The variability increased after tuning alpha\n",
        "\n",
        "*Select a single answer*"
      ],
      "metadata": {
        "id": "FW3IDzZXWCsd"
      }
    },
    {
      "cell_type": "code",
      "source": [
        "numerical_features = [\n",
        "    \"LotFrontage\", \"LotArea\", \"MasVnrArea\", \"BsmtFinSF1\", \"BsmtFinSF2\",\n",
        "    \"BsmtUnfSF\", \"TotalBsmtSF\", \"1stFlrSF\", \"2ndFlrSF\", \"LowQualFinSF\",\n",
        "    \"GrLivArea\", \"BedroomAbvGr\", \"KitchenAbvGr\", \"TotRmsAbvGrd\", \"Fireplaces\",\n",
        "    \"GarageCars\", \"WoodDeckSF\", \"OpenPorchSF\", \"EnclosedPorch\",\n",
        "    \"3SsnPorch\", \"ScreenPorch\", \"PoolArea\", \"MiscVal\",\n",
        "]\n",
        "\n",
        "# removed : \"GarageArea\"\n",
        "\n",
        "data_numerical = data[numerical_features]"
      ],
      "metadata": {
        "id": "55vYEWMK7vZR"
      },
      "execution_count": null,
      "outputs": []
    },
    {
      "cell_type": "markdown",
      "source": [
        "## Question 7\n",
        "\n",
        "Check the parameter `alpha_` (the regularization strength) for the different ridge regressors obtained on each fold.\n",
        "\n",
        "In which range does `alpha_` fall into for most folds?\n",
        "\n",
        "a) between 0.1 and 1\n",
        "\n",
        "b) between 1 and 10\n",
        "\n",
        "c) between 10 and 100\n",
        "\n",
        "d) between 100 and 1000\n",
        "\n",
        "*Select a single answer*"
      ],
      "metadata": {
        "id": "0n2wlbN8WlGt"
      }
    },
    {
      "cell_type": "markdown",
      "source": [
        "## Question 8\n",
        "\n",
        "Now, we will tackle a classification problem instead of a regression problem. Load the Adult Census dataset with the following snippet of code and we will work only with numerical features."
      ],
      "metadata": {
        "id": "o09pXQ6fXcuX"
      }
    },
    {
      "cell_type": "code",
      "source": [
        "adult_census = pd.read_csv(\"https://raw.githubusercontent.com/bilals/scikit-learn-mooc/main/datasets/adult-census.csv\")\n",
        "target = adult_census[\"class\"]\n",
        "data = adult_census.select_dtypes([\"integer\", \"floating\"])\n",
        "data = data.drop(columns=[\"education-num\"])"
      ],
      "metadata": {
        "id": "fpXmLp1v8us4"
      },
      "execution_count": null,
      "outputs": []
    },
    {
      "cell_type": "markdown",
      "source": [
        "How many numerical features are present in the dataset contained in the variable `data`?\n",
        "\n",
        "a) 3\n",
        "\n",
        "b) 4\n",
        "\n",
        "c) 5\n",
        "\n",
        "*Select a single answer*"
      ],
      "metadata": {
        "id": "rWw56e63Xvgu"
      }
    },
    {
      "cell_type": "markdown",
      "source": [
        "## Question 9\n",
        "\n",
        "Compare the generalization performance using the accuracy of the two following predictive models using a 10-fold `cross-validation`:\n",
        "\n",
        "* a linear model composed of a `StandardScaler` and a `LogisticRegression`\n",
        "\n",
        "* a `DummyClassifier` predicting the most frequent class\n",
        "\n",
        "By comparing the `cross-validation` test scores of both models fold-to-fold, count the number of times the linear model has a better test score than the dummy classifier Select the range which this number belongs to:\n",
        "\n",
        "a) [0, 3]: the linear model is substantially worse than the dummy classifier\n",
        "\n",
        "b) [4, 6]: both models are almost equivalent\n",
        "\n",
        "c) [7, 10]: the linear model is substantially better than the dummy classifier\n",
        "\n",
        "*Select a single answer*"
      ],
      "metadata": {
        "id": "LAVa2PsEX9S2"
      }
    },
    {
      "cell_type": "markdown",
      "source": [
        "## Question 10\n",
        "\n",
        "What is the most important feature seen by the logistic regression?\n",
        "\n",
        "a) \"`age`\"\n",
        "\n",
        "b) \"`capital-gain`\"\n",
        "\n",
        "c) \"`capital-loss`\"\n",
        "\n",
        "d) \"`hours-per-week`\"\n",
        "\n",
        "*Select a single answer*"
      ],
      "metadata": {
        "id": "HXlVlcubYoVv"
      }
    },
    {
      "cell_type": "markdown",
      "source": [
        "## Question 11\n",
        "\n",
        "Now, we will work with **both numerical and categorical features**. You can load Adult Census with the following snippet:"
      ],
      "metadata": {
        "id": "3aTqz4cxZOo4"
      }
    },
    {
      "cell_type": "code",
      "source": [
        "adult_census = pd.read_csv(\"https://raw.githubusercontent.com/bilals/scikit-learn-mooc/main/datasets/adult-census.csv\")\n",
        "target = adult_census[\"class\"]\n",
        "data = adult_census.drop(columns=[\"class\", \"education-num\"])"
      ],
      "metadata": {
        "id": "Hi3O3Q2XU7II"
      },
      "execution_count": null,
      "outputs": []
    },
    {
      "cell_type": "markdown",
      "source": [
        "Create a predictive model where the categorical data must be one-hot encoded, the numerical data must be scaled, and the predictor is a logistic regression classifier.\n",
        "\n",
        "Use the same 10-fold cross-validation strategy as above to evaluate this complex pipeline."
      ],
      "metadata": {
        "id": "TpZmRJCkZhf7"
      }
    },
    {
      "cell_type": "markdown",
      "source": [
        "Look at the cross-validation test scores for both models and count the number of times the model using both numerical and categorical features has a better test score than the model using only numerical features. Select the range which this number belongs to:\n",
        "\n",
        "a) [0, 3]: the model using both numerical and categorical features is substantially worse than the model using only numerical features\n",
        "\n",
        "b) [4, 6]: both models are almost equivalent\n",
        "\n",
        "c) [7, 10]: the model using both numerical and categorical features is substantially better than the model using only numerical features\n",
        "\n",
        "*Select a single answer*"
      ],
      "metadata": {
        "id": "LS0r2IlzZkeC"
      }
    },
    {
      "cell_type": "markdown",
      "source": [
        "## Question 12\n",
        "\n",
        "For the following questions, you can use the following snippet to get the feature names after the preprocessing performed."
      ],
      "metadata": {
        "id": "RHxMNijBbJVJ"
      }
    },
    {
      "cell_type": "code",
      "source": [
        "preprocessor.fit(data)\n",
        "feature_names = (preprocessor.named_transformers_[\"one-hot-encoder\"].get_feature_names_out(categorical_columns)).tolist()\n",
        "feature_names += numerical_columns\n",
        "feature_names"
      ],
      "metadata": {
        "id": "0te9fBfhZ6cj"
      },
      "execution_count": null,
      "outputs": []
    },
    {
      "cell_type": "markdown",
      "source": [
        "There is as many feature names as coefficients in the last step of your predictive pipeline.\n",
        "\n",
        "Which of the following pair of features is most impacting the predictions of the logistic regression classifier based on the relative magnitude of its coefficients?\n",
        "\n",
        "a) \"`hours-per-week`\" and \"`native-country_Columbia`\"\n",
        "\n",
        "b) \"`workclass_?`\" and \"`native_country_?`\"\n",
        "\n",
        "c) \"`capital-gain`\" and \"`education_Doctorate`\"\n",
        "\n",
        "*Select a single answer*"
      ],
      "metadata": {
        "id": "Wg8cqFOybRt3"
      }
    },
    {
      "cell_type": "markdown",
      "source": [
        "## Question 13\n",
        "\n",
        "What is the effect of decreasing the `C` parameter on the coefficients?\n",
        "\n",
        "a) shrinking the magnitude of the weights towards zeros\n",
        "\n",
        "b) increasing the magnitude of the weights\n",
        "\n",
        "c) reducing the weights’ variance\n",
        "\n",
        "d) increasing the weights’ variance\n",
        "\n",
        "e) it has no influence on the weights’ variance\n",
        "\n",
        "*Select all answers that apply*"
      ],
      "metadata": {
        "id": "H9Q6s4yrb1KL"
      }
    },
    {
      "cell_type": "markdown",
      "source": [
        "Answer to last question is further discussed in:\n",
        "\n",
        "https://inria.github.io/scikit-learn-mooc/python_scripts/linear_models_sol_03.html\n",
        "\n"
      ],
      "metadata": {
        "id": "VpTFHflxcC_C"
      }
    }
  ]
}